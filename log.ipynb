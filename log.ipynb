{
 "cells": [
  {
   "cell_type": "markdown",
   "metadata": {},
   "source": [
    "- Installed VSCode\n",
    "    - Wtih Extensions:\n",
    "        - LaTex Workshop\n",
    "        - Github Pull Request\n",
    "        - Jupyter\n",
    "        - Jupyter Cell Tags\n",
    "        - Jupyter Keymap\n",
    "        - Jupyter Notebook Renderer\n",
    "        - Jupyter Slide Show\n",
    "        - Live Preview\n",
    "        - Pylance\n",
    "        - Python\n",
    "        - Docker\n",
    "        - Python Debugger\n",
    "- Installed Python\n",
    "\n",
    "mkdir \\workspace\\summerofcode\\\n",
    "cd \\workspace\\summerofcode\\\n",
    "python -m venv .venv\n",
    ".venv\\Scripts\\activate\n",
    "\n"
   ]
  }
 ],
 "metadata": {
  "language_info": {
   "name": "python"
  }
 },
 "nbformat": 4,
 "nbformat_minor": 2
}
