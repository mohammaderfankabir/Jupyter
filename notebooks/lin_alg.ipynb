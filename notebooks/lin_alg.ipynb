{
 "cells": [
  {
   "cell_type": "markdown",
   "metadata": {},
   "source": [
    "                \"Manim library\": {\n",
    "                    \"https://www.youtube.com/watch?v=rbu7Zu5X1zI\": \"\",\n",
    "                    \"https://www.manim.community/\": \"\",\n",
    "                    \"https://www.youtube.com/c/3blue1brown\": \"\",\n",
    "                },"
   ]
  },
  {
   "cell_type": "code",
   "execution_count": null,
   "metadata": {},
   "outputs": [],
   "source": [
    "import manim"
   ]
  }
 ],
 "metadata": {
  "kernelspec": {
   "display_name": ".jupyter",
   "language": "python",
   "name": "python3"
  },
  "language_info": {
   "name": "python",
   "version": "3.13.1"
  }
 },
 "nbformat": 4,
 "nbformat_minor": 2
}
