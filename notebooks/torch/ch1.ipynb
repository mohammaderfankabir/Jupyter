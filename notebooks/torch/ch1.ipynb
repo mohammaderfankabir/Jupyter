{
 "cells": [
  {
   "cell_type": "code",
   "execution_count": 1,
   "metadata": {},
   "outputs": [
    {
     "name": "stdout",
     "output_type": "stream",
     "text": [
      "tensor([[0.7753, 0.6197, 0.6314],\n",
      "        [0.9017, 0.5224, 0.7664],\n",
      "        [0.8039, 0.4843, 0.0861],\n",
      "        [0.7088, 0.7283, 0.7433],\n",
      "        [0.4421, 0.9621, 0.3165]])\n"
     ]
    }
   ],
   "source": [
    "import torch\n",
    "\n",
    "x = torch.rand(5, 3)\n",
    "print(x)"
   ]
  },
  {
   "cell_type": "code",
   "execution_count": 2,
   "metadata": {},
   "outputs": [
    {
     "data": {
      "text/plain": [
       "False"
      ]
     },
     "execution_count": 2,
     "metadata": {},
     "output_type": "execute_result"
    }
   ],
   "source": [
    "import torch\n",
    "torch.cuda.is_available()"
   ]
  },
  {
   "cell_type": "code",
   "execution_count": 7,
   "metadata": {},
   "outputs": [
    {
     "data": {
      "image/svg+xml": [
       "<svg xmlns=\"http://www.w3.org/2000/svg\" viewBox=\"0 0 200 100\" style=\"background: none;\">\n",
       "  <!-- Input 1 -->\n",
       "  <line x1=\"20\" y1=\"20\" x2=\"50\" y2=\"20\" stroke=\"black\" stroke-width=\"2\"/>\n",
       "  <circle cx=\"50\" cy=\"20\" r=\"10\" stroke=\"black\" stroke-width=\"2\" fill=\"none\"/>\n",
       "  <text x=\"50\" y=\"17\" font-size=\"12\" text-anchor=\"middle\">A</text>\n",
       "  \n",
       "  <!-- Input 2 -->\n",
       "  <line x1=\"20\" y1=\"80\" x2=\"50\" y2=\"80\" stroke=\"black\" stroke-width=\"2\"/>\n",
       "  <circle cx=\"50\" cy=\"80\" r=\"10\" stroke=\"black\" stroke-width=\"2\" fill=\"none\"/>\n",
       "  <text x=\"50\" y=\"77\" font-size=\"12\" text-anchor=\"middle\">B</text>\n",
       "\n",
       "  <!-- XOR Gate -->\n",
       "  <path d=\"M 50 30 Q 50 50 80 50 Q 50 50 50 70 Q 50 90 80 90 Q 50 90 50 70 Q 50 50 80 50\" stroke=\"black\" stroke-width=\"2\" fill=\"none\"/>\n",
       "  <text x=\"110\" y=\"55\" font-size=\"12\" text-anchor=\"middle\">XOR</text>\n",
       "\n",
       "  <!-- Output -->\n",
       "  <line x1=\"120\" y1=\"50\" x2=\"150\" y2=\"50\" stroke=\"black\" stroke-width=\"2\"/>\n",
       "  <circle cx=\"150\" cy=\"50\" r=\"10\" stroke=\"black\" stroke-width=\"2\" fill=\"none\"/>\n",
       "  <text x=\"150\" y=\"47\" font-size=\"12\" text-anchor=\"middle\">Output</text>\n",
       "</svg>"
      ],
      "text/plain": [
       "<IPython.core.display.SVG object>"
      ]
     },
     "metadata": {},
     "output_type": "display_data"
    }
   ],
   "source": [
    "from IPython.display import SVG, display\n",
    "\n",
    "# XOR Gate SVG with transparent background\n",
    "xor_gate_svg = '''\n",
    "<svg xmlns=\"http://www.w3.org/2000/svg\" viewBox=\"0 0 200 100\" style=\"background: none;\">\n",
    "  <!-- Input 1 -->\n",
    "  <line x1=\"20\" y1=\"20\" x2=\"50\" y2=\"20\" stroke=\"black\" stroke-width=\"2\"/>\n",
    "  <circle cx=\"50\" cy=\"20\" r=\"10\" stroke=\"black\" stroke-width=\"2\" fill=\"none\"/>\n",
    "  <text x=\"50\" y=\"17\" font-size=\"12\" text-anchor=\"middle\">A</text>\n",
    "  \n",
    "  <!-- Input 2 -->\n",
    "  <line x1=\"20\" y1=\"80\" x2=\"50\" y2=\"80\" stroke=\"black\" stroke-width=\"2\"/>\n",
    "  <circle cx=\"50\" cy=\"80\" r=\"10\" stroke=\"black\" stroke-width=\"2\" fill=\"none\"/>\n",
    "  <text x=\"50\" y=\"77\" font-size=\"12\" text-anchor=\"middle\">B</text>\n",
    "\n",
    "  <!-- XOR Gate -->\n",
    "  <path d=\"M 50 30 Q 50 50 80 50 Q 50 50 50 70 Q 50 90 80 90 Q 50 90 50 70 Q 50 50 80 50\" \n",
    "        stroke=\"black\" stroke-width=\"2\" fill=\"none\"/>\n",
    "  <text x=\"110\" y=\"55\" font-size=\"12\" text-anchor=\"middle\">XOR</text>\n",
    "\n",
    "  <!-- Output -->\n",
    "  <line x1=\"120\" y1=\"50\" x2=\"150\" y2=\"50\" stroke=\"black\" stroke-width=\"2\"/>\n",
    "  <circle cx=\"150\" cy=\"50\" r=\"10\" stroke=\"black\" stroke-width=\"2\" fill=\"none\"/>\n",
    "  <text x=\"150\" y=\"47\" font-size=\"12\" text-anchor=\"middle\">Output</text>\n",
    "</svg>\n",
    "'''\n",
    "\n",
    "# Display the SVG\n",
    "display(SVG(data=xor_gate_svg))\n"
   ]
  },
  {
   "cell_type": "markdown",
   "metadata": {},
   "source": [
    "Tensors,automatic differentiation, dimensionality"
   ]
  },
  {
   "cell_type": "code",
   "execution_count": 8,
   "metadata": {},
   "outputs": [],
   "source": [
    "import torch\n",
    "import numpy as np"
   ]
  },
  {
   "cell_type": "code",
   "execution_count": 9,
   "metadata": {},
   "outputs": [],
   "source": [
    "data = [[1, 2], [3, 4]]\n",
    "x_data = torch.tensor(data)"
   ]
  },
  {
   "cell_type": "code",
   "execution_count": 10,
   "metadata": {},
   "outputs": [],
   "source": [
    "np_array = np.array(data)\n",
    "x_np = torch.from_numpy(np_array)"
   ]
  },
  {
   "cell_type": "code",
   "execution_count": 12,
   "metadata": {},
   "outputs": [
    {
     "name": "stdout",
     "output_type": "stream",
     "text": [
      "One tensors: \n",
      " tensor([[1, 1],\n",
      "        [1, 1]]) \n",
      "\n"
     ]
    }
   ],
   "source": [
    "x_ones = torch.ones_like(x_data)\n",
    "print(f'One tensors: \\n {x_ones} \\n')"
   ]
  },
  {
   "cell_type": "code",
   "execution_count": 14,
   "metadata": {},
   "outputs": [
    {
     "name": "stdout",
     "output_type": "stream",
     "text": [
      "Random tensors \n",
      " tensor([[0.7100, 0.4324],\n",
      "        [0.6306, 0.2735]]) \n",
      "\n"
     ]
    }
   ],
   "source": [
    "x_rand = torch.rand_like(x_data, dtype=torch.float)\n",
    "print(f'Random tensors \\n {x_rand} \\n')"
   ]
  },
  {
   "cell_type": "code",
   "execution_count": 15,
   "metadata": {},
   "outputs": [
    {
     "name": "stdout",
     "output_type": "stream",
     "text": [
      "Random Tensor: \n",
      " tensor([[0.9704, 0.9526, 0.9361],\n",
      "        [0.6607, 0.1999, 0.9983]]) \n",
      "\n",
      "Ones Tensor: \n",
      " tensor([[1., 1., 1.],\n",
      "        [1., 1., 1.]]) \n",
      "\n",
      "Zeros Tensor: \n",
      " tensor([[0., 0., 0.],\n",
      "        [0., 0., 0.]])\n"
     ]
    }
   ],
   "source": [
    "shape = (2, 3)\n",
    "rand_tensor = torch.rand(shape)\n",
    "ones_tensor = torch.ones(shape)\n",
    "zeros_tensor = torch.zeros(shape)\n",
    "\n",
    "print(f\"Random Tensor: \\n {rand_tensor} \\n\")\n",
    "print(f\"Ones Tensor: \\n {ones_tensor} \\n\")\n",
    "print(f\"Zeros Tensor: \\n {zeros_tensor}\")"
   ]
  },
  {
   "cell_type": "code",
   "execution_count": 16,
   "metadata": {},
   "outputs": [
    {
     "name": "stdout",
     "output_type": "stream",
     "text": [
      "Shape of tensor: torch.Size([3, 4])\n",
      "Datatype of tensor: torch.float32\n",
      "Device tensor is stored on: cpu\n"
     ]
    }
   ],
   "source": [
    "tensor = torch.rand(3, 4)\n",
    "\n",
    "print(f\"Shape of tensor: {tensor.shape}\")\n",
    "print(f\"Datatype of tensor: {tensor.dtype}\")\n",
    "print(f\"Device tensor is stored on: {tensor.device}\")"
   ]
  },
  {
   "cell_type": "code",
   "execution_count": 18,
   "metadata": {},
   "outputs": [],
   "source": [
    "if torch.cuda.is_available():\n",
    "    tensor = tensor.to('cuda')"
   ]
  },
  {
   "cell_type": "code",
   "execution_count": 23,
   "metadata": {},
   "outputs": [
    {
     "name": "stdout",
     "output_type": "stream",
     "text": [
      "First row: tensor([1., 1., 1., 1.])\n",
      "First column: tensor([1., 1., 1., 1.])\n",
      "Last column: tensor([1., 1., 1., 1.])\n",
      "tensor([[1., 0., 1., 1.],\n",
      "        [1., 0., 1., 1.],\n",
      "        [1., 0., 1., 1.],\n",
      "        [1., 0., 1., 1.]])\n"
     ]
    }
   ],
   "source": [
    "tensor = torch.ones(4, 4)\n",
    "print('First row:', tensor[0])\n",
    "print('First column:', tensor[:, 0])\n",
    "print('Last column:', tensor[..., -1])\n",
    "tensor[:, 1] = 0\n",
    "print(tensor)"
   ]
  },
  {
   "cell_type": "code",
   "execution_count": 21,
   "metadata": {},
   "outputs": [
    {
     "name": "stdout",
     "output_type": "stream",
     "text": [
      "tensor([[1., 0., 1., 1., 1., 0., 1., 1., 1., 0., 1., 1.],\n",
      "        [1., 0., 1., 1., 1., 0., 1., 1., 1., 0., 1., 1.],\n",
      "        [1., 0., 1., 1., 1., 0., 1., 1., 1., 0., 1., 1.],\n",
      "        [1., 0., 1., 1., 1., 0., 1., 1., 1., 0., 1., 1.]])\n"
     ]
    }
   ],
   "source": [
    "t1 = torch.cat([tensor, tensor, tensor], dim=1)\n",
    "print(tensor)"
   ]
  },
  {
   "cell_type": "code",
   "execution_count": 24,
   "metadata": {},
   "outputs": [
    {
     "data": {
      "text/plain": [
       "tensor([[1., 0., 1., 1.],\n",
       "        [1., 0., 1., 1.],\n",
       "        [1., 0., 1., 1.],\n",
       "        [1., 0., 1., 1.]])"
      ]
     },
     "execution_count": 24,
     "metadata": {},
     "output_type": "execute_result"
    }
   ],
   "source": [
    "y1 = tensor @ tensor.T\n",
    "y2 = tensor.matmul(tensor.T)\n",
    "\n",
    "y3 = torch.rand_like(tensor)\n",
    "torch.matmul(tensor, tensor.T, out=y3)\n",
    "\n",
    "z1 = tensor * tensor\n",
    "z2 = tensor.mul(tensor)\n",
    "\n",
    "z3 = torch.rand_like(tensor)\n",
    "torch.mul(tensor, tensor, out= z3)"
   ]
  },
  {
   "cell_type": "code",
   "execution_count": 26,
   "metadata": {},
   "outputs": [
    {
     "name": "stdout",
     "output_type": "stream",
     "text": [
      "tensor(12.) <class 'float'>\n"
     ]
    }
   ],
   "source": [
    "agg = tensor.sum()\n",
    "agg_item = agg.item()\n",
    "print(agg, type(agg_item))\n"
   ]
  },
  {
   "cell_type": "code",
   "execution_count": null,
   "metadata": {},
   "outputs": [],
   "source": []
  }
 ],
 "metadata": {
  "kernelspec": {
   "display_name": ".venv",
   "language": "python",
   "name": "python3"
  },
  "language_info": {
   "codemirror_mode": {
    "name": "ipython",
    "version": 3
   },
   "file_extension": ".py",
   "mimetype": "text/x-python",
   "name": "python",
   "nbconvert_exporter": "python",
   "pygments_lexer": "ipython3",
   "version": "3.13.1"
  }
 },
 "nbformat": 4,
 "nbformat_minor": 2
}
