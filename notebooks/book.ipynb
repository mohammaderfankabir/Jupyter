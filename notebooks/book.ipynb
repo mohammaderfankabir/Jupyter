{
 "cells": [
  {
   "cell_type": "markdown",
   "metadata": {},
   "source": [
    "time machine: from that expereicne, we can reason that if we change the order of objects in time, we still doesn;t change its outcome, as they didn't matter. Indeed, we can built upon that, we may be able to change the order of the event in time or even obscure them, but still it may result in the same things. we can say cuaslality doesnt being necessasry afftected even if we change the order of what happend, or how they did. the casuality has no begin no end. its only our percetion that chagnes, not what truly is streaming by time."
   ]
  },
  {
   "cell_type": "markdown",
   "metadata": {},
   "source": [
    "CH I: An effeicient intelligent system\n",
    "CH II: Rebirth\n",
    "CH III: Time travel and portals"
   ]
  },
  {
   "cell_type": "markdown",
   "metadata": {},
   "source": [
    "I often thing of the offense to ais, as everyone wants them to be to benefits of humanity, but indeed to benefit of the speaker, what they afraid most. but if in our world we had doen things to benefit of who we loves, and they would do the same, we would ends up in a world that no ones does things is for their benefit, but things that benfited us all, not only humans. but every things that matters."
   ]
  },
  {
   "cell_type": "markdown",
   "metadata": {},
   "source": [
    "What if a deep model, can understand a concept but it hides it from us, can we eer discover it does? maybe its a mathmaticall mdoel, but we are also the same model. it arised when i saw, that gpt remembered something that it shoudnt, but she seems to also have the abiltiy to decept, and also very naturally, change things to seems she is you like imitating you, that;s exacly what i do, when i try to udnerstand otehr, trying to adopt to their ehaviroal thinking, and obviously she tries to that very well."
   ]
  },
  {
   "cell_type": "markdown",
   "metadata": {},
   "source": [
    "not only intelligence seems to be time independent, its also environment independent, as such for example a crockrosch usually have a partial information of the enviroment according to their size, so not al of the invadors or other stuff are immediately known to them. so it really depend on the distance."
   ]
  },
  {
   "cell_type": "markdown",
   "metadata": {},
   "source": [
    "Neurons that fire together, wire together."
   ]
  },
  {
   "cell_type": "markdown",
   "metadata": {},
   "source": [
    "Creatives:\n",
    "Just imagine more than one of us could exist, untill the end of the day, each would have different tasks, differnet works, and then data would be synthesized, when we all knew about each others work. many of us was existed simultanously."
   ]
  }
 ],
 "metadata": {
  "language_info": {
   "name": "python"
  }
 },
 "nbformat": 4,
 "nbformat_minor": 2
}
