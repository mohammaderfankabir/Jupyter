{
 "cells": [
  {
   "cell_type": "markdown",
   "metadata": {},
   "source": [
    "https://www.amazon.com/Official-Guide-GRE-Test-Fourth/dp/1266795642\n",
    "\"https://learning.quantum.ibm.com/\": \"\",\n",
    "\"https://quantumai.google/\": \"\",\n",
    "\"https://www.youtube.com/qiskit\": \"\",\n",
    "\n",
    "Monday      - Thomas' Calculus\n",
    "Tuesday     - Introduction to Linear Algebra                6\n",
    "Wednesday   - Discrete Mathematics and Its Applications     13\n",
    "Thursday    - Database System Concepts                      65 left: ch1 ex, ch2 ex,\n",
    "Friday      - C Programming Language                        11\n",
    "Saturday    - Principles and Practice Using C++             52\n",
    "Sunday      - Introduction to Probability                   1\n",
    "            - Visual Complex Analysis                       1"
   ]
  },
  {
   "cell_type": "code",
   "execution_count": 1,
   "metadata": {},
   "outputs": [],
   "source": [
    "tree = {\n",
    "    \"CS\": {\n",
    "        \"Building a Modern Computer from First Principles (Noam Nisan et al.)\": \"\",\n",
    "        \"1. C Programming Language, 2nd edition (K & R)\": \"\",\n",
    "        \"Programming: Principles and Practice Using C++ (Bjarne Stroustrup)\": {\n",
    "        \"The C++ Programming Language, 4th edition (Bjarne Stroustrup)\":\"\",  # https://www.stroustrup.com/\n",
    "        \"Fluent Python, 2nd edition (Luciano Ramalho)\": \"\",\n",
    "        \"Discrete Mathematics and Its Applications, 8th edition (Kenneth H. Rosen)\": \"\",  # \"https://highered.mheducation.com/sites/125967651x/student_view0/index.html\"\n",
    "        \"Database System Concepts, 7th edition (Abraham Silberschatz et al.)\": \"\",  # https://db-book.com/\n",
    "        \"Introduction to Algorithms, fourth edition (Thomas H. Cormen et al.)\": \"\",\n",
    "        \"The Cinderella Book, 3rd edition (John Hopcroft et al.)\": \"\",\n",
    "        },\n",
    "    \"Math\":{\n",
    "        \"Introduction to Linear Algebra, 6th edition (Gilbert Strang)\": \"\",  # https://ocw.mit.edu/courses/18-06sc-linear-algebra-fall-2011/\n",
    "        \"Introduction to Probability, Second Edition (Joseph K. Blitzstein et al.)\": \"\",  # https://projects.iq.harvard.edu/stat110/\n",
    "        \"Visual Complex Analysis (Tristan Needham)\": \"\",\n",
    "    },\n",
    "    \"II\": {\n",
    "        \"Deep Learning Book (Ian Goodfellow et al.)\": \"\", # https://www.youtube.com/@AlenaKruchkova , https://www.deeplearningbook.org/\n",
    "        \"Reinforcement Learning An introduction (Richard S. Sutton et al.)\": \"\",\n",
    "        },\n",
    "    },\n",
    "    \"Physics\": {\n",
    "        \"Thomas' Calculus, 15th edition (George B. Thomas et al.)\": \"\",\n",
    "        \"Visual Differential Geometry and Forms\": \"\",\n",
    "        \"University Physics with Modern Physics, 15th edition (Hugh D. Young et al.)\": \"\",\n",
    "        \"The Feynman Lectures on Physics (Richard P. Feynman)\": \"\",  # https://www.feynmanlectures.caltech.edu/\n",
    "        \"Introduction to Quantum Mechanics, Third edition (David J. Griffiths)\": \"\",\n",
    "        \"Quantum Computation and Quantum Information, 10th Anniversary Edition (Mike & Ike)\": {\n",
    "            \"https://ocw.mit.edu/courses/8-370x-quantum-information-science-i-spring-2018/\": \"\",\n",
    "            \"https://ocw.mit.edu/courses/8-371x-quantum-information-science-ii-spring-2018/\": \"\",\n",
    "            },\n",
    "        },\n",
    "    \"Projects\": {\n",
    "        \"Nand to tetris\": {\n",
    "            \"Building a Modern Computer from First Principles (Noam Nisan et al.)\": {\n",
    "                \"Video lectures\": {\n",
    "                    \"https://www.coursera.org/learn/build-a-computer\": \"\",\n",
    "                    \"https://www.coursera.org/learn/nand2tetris2\": \"\",\n",
    "                    \"https://www.nand2tetris.org/\": \"\",\n",
    "                    \"https://github.com/nand2tetris\": \"\",\n",
    "                },\n",
    "            },\n",
    "        },\n",
    "        \"Interactive Portofoli (JS Project)\": {\n",
    "            \"Perpetua font (it should include 2 or 3 complementary font for formal writing)\": \"\",\n",
    "        },\n",
    "        \"Nier: Genesis (an strategy game fully developed with AI)\": {\n",
    "            \"an llm, that instead of being dully polite, be realisitc, sarcastic, fun and use the trend in fun series\"\n",
    "        },\n",
    "        \"https://arcprize.org/\": \"\",\n",
    "        \"My own quantum Monte Carlo program.\": \"\",\n",
    "    },\n",
    "\"Papers (read and reproduce results.)\": \"\",\n",
    "},"
   ]
  },
  {
   "cell_type": "code",
   "execution_count": null,
   "metadata": {},
   "outputs": [
    {
     "name": "stdout",
     "output_type": "stream",
     "text": [
      "Creativity is just that of incremental design, Mohammaderfan Kabir.\n",
      "└── \n",
      "    ├── I\n",
      "    │   ├── Discrete Mathematics and Its Applications, 8th edition (Kenneth H. Rosen)\n",
      "    │   │   ├── Website\n",
      "    │   │   ├── Introduction to Algorithms, fourth edition (Thomas H. Cormen et al.)\n",
      "    │   │   ├── The Cinderella Book, 3rd edition (John Hopcroft et al.)\n",
      "    │   │   ├── Thomas' Calculus, 15th edition (George B. Thomas et al.)\n",
      "    │   │   ├── Introduction to Linear Algebra, 6th edition (Gilbert Strang)\n",
      "    │   │   │   ├── course\n",
      "    │   │   │   │   └── https://ocw.mit.edu/courses/18-06sc-linear-algebra-fall-2011/\n",
      "    │   │   │   └── video lectures\n",
      "    │   │   ├── Visual Complex Analysis (Tristan Needham)\n",
      "    │   │   ├── Introduction to Probability, Second Edition (Joseph K. Blitzstein et al.)\n",
      "    │   │   │   └── Course\n",
      "    │   │   └── Database System Concepts, 7th edition (Abraham Silberschatz et al.)\n",
      "    │   │       └── https://db-book.com/\n",
      "    │   ├── II\n",
      "    │   │   ├── C Programming Language, 2nd edition (K & R)\n",
      "    │   │   ├── Programming: Principles and Practice Using C++ (Bjarne Stroustrup)\n",
      "    │   │   │   └── The C++ Programming Language, 4th edition (Bjarne Stroustrup)\n",
      "    │   │   │       └── https://www.stroustrup.com/\n",
      "    │   │   ├── Fluent Python, 2nd edition (Luciano Ramalho)\n",
      "    │   │   ├── Deep Learning Book (Ian Goodfellow et al.)\n",
      "    │   │   │   └── video lectures\n",
      "    │   │   │       ├── https://www.youtube.com/@AlenaKruchkova\n",
      "    │   │   │       └── https://www.deeplearningbook.org/\n",
      "    │   │   └── Reinforcement Learning An introduction (Richard S. Sutton et al.)\n",
      "    │   └── Projects\n",
      "    │       ├── Nand to tetris\n",
      "    │       │   └── Building a Modern Computer from First Principles (Noam Nisan et al.)\n",
      "    │       │       └── Video lectures\n",
      "    │       │           ├── https://www.coursera.org/learn/build-a-computer\n",
      "    │       │           ├── https://www.coursera.org/learn/nand2tetris2\n",
      "    │       │           ├── https://www.nand2tetris.org/\n",
      "    │       │           └── https://github.com/nand2tetris\n",
      "    │       ├── Interactive Portofoli (JS Project)\n",
      "    │       │   └── Perpetua font (it should include 2 or 3 complementary font for formal writing)\n",
      "    │       ├── Nier: Genesis (an strategy game fully developed with AI)\n",
      "    │       └── https://arcprize.org/\n",
      "    ├── Physics\n",
      "    │   ├── University Physics with Modern Physics, 15th edition (Hugh D. Young et al.)\n",
      "    │   ├── The Feynman Lectures on Physics, https://www.feynmanlectures.caltech.edu/ (Richard P. Feynman)\n",
      "    │   ├── Introduction to Quantum Mechanics, Third edition (David J. Griffiths)\n",
      "    │   ├── Quantum Computation and Quantum Information, 10th Anniversary Edition (Mike & Ike)\n",
      "    │   │   ├── https://ocw.mit.edu/courses/8-370x-quantum-information-science-i-spring-2018/\n",
      "    │   │   └── https://ocw.mit.edu/courses/8-371x-quantum-information-science-ii-spring-2018/\n",
      "    │   ├── Supplementary\n",
      "    │   │   ├── https://learning.quantum.ibm.com/\n",
      "    │   │   ├── https://quantumai.google/\n",
      "    │   │   └── https://www.youtube.com/qiskit\n",
      "    │   └── Projects\n",
      "    │       └── My own quantum Monte Carlo program.\n",
      "    └── Papers (read and reproduce results.)\n"
     ]
    }
   ],
   "source": [
    "def print_tree_structure(structure, prefix=''):\n",
    "    for i, (name, content) in enumerate(structure.items()):\n",
    "        is_last = i == len(structure) - 1\n",
    "        # Print the name with the appropriate prefix\n",
    "        print(f\"{prefix}{'└── ' if is_last else '├── '}{name}\")\n",
    "        \n",
    "        # If the content is a dictionary, recurse\n",
    "        if isinstance(content, dict):\n",
    "            new_prefix = prefix + ('    ' if is_last else '│   ')\n",
    "            print_tree_structure(content, new_prefix)           \n",
    "\n",
    "\n",
    "print_tree_structure(tree)\n"
   ]
  },
  {
   "cell_type": "code",
   "execution_count": 6,
   "metadata": {},
   "outputs": [
    {
     "name": "stdout",
     "output_type": "stream",
     "text": [
      "✔\n"
     ]
    }
   ],
   "source": [
    "print('✔')"
   ]
  }
 ],
 "metadata": {
  "kernelspec": {
   "display_name": ".jupyter",
   "language": "python",
   "name": "python3"
  },
  "language_info": {
   "codemirror_mode": {
    "name": "ipython",
    "version": 3
   },
   "file_extension": ".py",
   "mimetype": "text/x-python",
   "name": "python",
   "nbconvert_exporter": "python",
   "pygments_lexer": "ipython3",
   "version": "3.13.1"
  }
 },
 "nbformat": 4,
 "nbformat_minor": 2
}
