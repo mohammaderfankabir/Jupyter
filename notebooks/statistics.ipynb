{
 "cells": [
  {
   "cell_type": "code",
   "execution_count": null,
   "metadata": {},
   "outputs": [],
   "source": [
    "def median(arr):\n",
    "    arr.sort()\n",
    "    n = len(arr)\n",
    "    if n % 2 == 1:\n",
    "        return arr[n // 2]\n",
    "    else:\n",
    "        return (arr[(n // 2) - 1] + arr[n // 2]) / 2\n",
    "\n",
    "def quartiles(arr):\n",
    "    arr.sort()\n",
    "    n = len(arr)\n",
    "\n",
    "    # Calculate the median (Q2)\n",
    "    q2 = median(arr)\n",
    "\n",
    "    # Split the array into lower and upper halves\n",
    "    lower_half = arr[:n // 2]\n",
    "    upper_half = arr[(n + 1) // 2:]  # Exclude the middle element if n is odd\n",
    "\n",
    "    # Calculate Q1 (median of lower half)\n",
    "    q1 = median(lower_half)\n",
    "\n",
    "    # Calculate Q3 (median of upper half)\n",
    "    q3 = median(upper_half)\n",
    "\n",
    "    return q1, q2, q3\n",
    "\n",
    "def interQuartile(values, freqs):\n",
    "    arr = [i for i, j in zip(values, freqs) for _ in range(j)]\n",
    "    q1, q2, q3 = quartiles(arr)\n",
    "    print(f\"{q3 - q1:.1f}\")"
   ]
  },
  {
   "cell_type": "code",
   "execution_count": null,
   "metadata": {},
   "outputs": [],
   "source": [
    "# Function to calculate factorial\n",
    "def factorial(n):\n",
    "    if n <= 1:\n",
    "        return 1\n",
    "    return n * factorial(n - 1)\n",
    "\n",
    "# Read the ratio of boys to girls\n",
    "boy_ratio, girl_ratio = map(int, input().split())\n",
    "\n",
    "# Calculate probabilities for boy and girl\n",
    "total_ratio = boy_ratio + girl_ratio\n",
    "boy_prob = boy_ratio / total_ratio\n",
    "girl_prob = girl_ratio / total_ratio\n",
    "\n",
    "# Number of children in a family\n",
    "num_children = 6\n",
    "\n",
    "# List of possible numbers of boys (k) we are interested in\n",
    "k_values = [3, 4, 5, 6]\n",
    "\n",
    "# Total probability of having at least 3 boys\n",
    "total_probability = 0\n",
    "\n",
    "# Calculate the binomial probability for each k\n",
    "for k in k_values:\n",
    "    binomial_coefficient = factorial(num_children) / (factorial(k) * factorial(num_children - k))\n",
    "    total_probability += binomial_coefficient * (boy_prob ** k) * (girl_prob ** (num_children - k))\n",
    "\n",
    "# Print the result rounded to 3 decimal places\n",
    "print(f\"{total_probability:.3f}\")\n"
   ]
  },
  {
   "cell_type": "code",
   "execution_count": 10,
   "metadata": {},
   "outputs": [
    {
     "name": "stdout",
     "output_type": "stream",
     "text": [
      "0.891\n",
      "0.342\n"
     ]
    }
   ],
   "source": [
    "import math\n",
    "\n",
    "def binom(n, p, k):\n",
    "    coeff = math.comb(n, k)\n",
    "    return coeff * (p ** k) * ((1 - p) ** (n - k))\n",
    "\n",
    "n = 10\n",
    "p = 0.12\n",
    "\n",
    "prob_no_more_than_2 = sum(binom(n, p, k) for k in range(3))  # P(X ≤ 2)\n",
    "prob_at_least_2 = 1 - sum(binom(n, p, k) for k in range(2))  # P(X ≥ 2) = 1 - P(X ≤ 1)\n",
    "\n",
    "print(f\"{prob_no_more_than_2:.3f}\")\n",
    "print(f\"{prob_at_least_2:.3f}\")\n"
   ]
  },
  {
   "cell_type": "code",
   "execution_count": null,
   "metadata": {},
   "outputs": [],
   "source": [
    "# Geometric distrubution\n",
    "p = 1 / 3\n",
    "n = 5\n",
    "\n",
    "print(f\"{((1 - p) ** (n - 1)) * p:.3f}\")"
   ]
  },
  {
   "cell_type": "code",
   "execution_count": null,
   "metadata": {},
   "outputs": [],
   "source": [
    "# Poisson Probability Mass Function (PMF):\n",
    "\n",
    "import math\n",
    "\n",
    "lmbda = 2.5\n",
    "k = 5\n",
    "\n",
    "poisson_prob = (lmbda ** k * math.exp(-lmbda)) / math.factorial(k)\n",
    "print(f\"{poisson_prob:.3f}\")"
   ]
  },
  {
   "cell_type": "code",
   "execution_count": null,
   "metadata": {},
   "outputs": [],
   "source": [
    "# Normal distrubution, probability density function\n",
    "\n",
    "import math\n",
    "\n",
    "def normal_cdf(x, mu, sigma):\n",
    "    \"\"\"Cumulative distribution function for a normal distribution\"\"\"\n",
    "    z = (x - mu) / sigma\n",
    "    return 0.5 * (1 + math.erf(z / math.sqrt(2)))\n",
    "\n",
    "mu = 20  # Mean\n",
    "sigma = 2  # Standard deviation\n",
    "\n",
    "# P(X < 19.5)\n",
    "p1 = normal_cdf(19.5, mu, sigma)\n",
    "\n",
    "# P(20 ≤ X ≤ 22)\n",
    "p2 = normal_cdf(22, mu, sigma) - normal_cdf(20, mu, sigma)\n",
    "\n",
    "print(f\"{p1:.4f}\")\n",
    "print(f\"{p2:.4f}\")\n"
   ]
  },
  {
   "cell_type": "code",
   "execution_count": null,
   "metadata": {},
   "outputs": [],
   "source": [
    "#  Central Limit Theorem (CLT)\n",
    "\n",
    "import math\n",
    "\n",
    "def normal_cdf(x, mu, sigma):\n",
    "    \"\"\"Cumulative distribution function for a normal distribution\"\"\"\n",
    "    z = (x - mu) / sigma\n",
    "    return 0.5 * (1 + math.erf(z / math.sqrt(2)))\n",
    "\n",
    "mu_box = 205  # Mean weight of one box\n",
    "sigma_box = 15  # Standard deviation of one box\n",
    "n_boxes = 49  # Number of boxes\n",
    "\n",
    "# Total mean and standard deviation\n",
    "mu_total = n_boxes * mu_box\n",
    "sigma_total = math.sqrt(n_boxes) * sigma_box\n",
    "\n",
    "# P(total weight <= 9800)\n",
    "p = normal_cdf(9800, mu_total, sigma_total)\n",
    "\n",
    "print(f\"{p:.4f}\")\n"
   ]
  }
 ],
 "metadata": {
  "kernelspec": {
   "display_name": ".jupyter",
   "language": "python",
   "name": "python3"
  },
  "language_info": {
   "codemirror_mode": {
    "name": "ipython",
    "version": 3
   },
   "file_extension": ".py",
   "mimetype": "text/x-python",
   "name": "python",
   "nbconvert_exporter": "python",
   "pygments_lexer": "ipython3",
   "version": "3.13.1"
  }
 },
 "nbformat": 4,
 "nbformat_minor": 2
}
