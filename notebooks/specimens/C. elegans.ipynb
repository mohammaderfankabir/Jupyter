{
 "cells": [
  {
   "cell_type": "markdown",
   "metadata": {},
   "source": [
    "includes (their finate state machine in time intervals, and life span, from born to die)"
   ]
  }
 ],
 "metadata": {
  "language_info": {
   "name": "python"
  }
 },
 "nbformat": 4,
 "nbformat_minor": 2
}
