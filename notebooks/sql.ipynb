{
 "cells": [
  {
   "cell_type": "markdown",
   "metadata": {},
   "source": [
    "Write a query identifying the type of each record in the TRIANGLES table using its three side lengths. Output one of the following statements for each record in the table:\n",
    "\n",
    "Equilateral: It's a triangle with  sides of equal length.\n",
    "Isosceles: It's a triangle with  sides of equal length.\n",
    "Scalene: It's a triangle with  sides of differing lengths.\n",
    "Not A Triangle: The given values of A, B, and C don't form a triangle"
   ]
  },
  {
   "cell_type": "markdown",
   "metadata": {},
   "source": [
    "SELECT \n",
    "    CASE\n",
    "        WHEN A + B <= C OR A + C <= B OR B + C <= A THEN 'Not A Triangle'\n",
    "        WHEN A = B AND B = C THEN 'Equilateral'\n",
    "        WHEN A = B OR B = C OR A = C THEN 'Isosceles'\n",
    "        ELSE 'Scalene'\n",
    "    END AS Triangle_Type\n",
    "FROM TRIANGLES;\n"
   ]
  },
  {
   "cell_type": "code",
   "execution_count": null,
   "metadata": {
    "vscode": {
     "languageId": "plaintext"
    }
   },
   "outputs": [],
   "source": [
    "Samantha was tasked with calculating the average monthly salaries for all employees in the EMPLOYEES table, but did not realize her keyboard's  key was broken until after completing the calculation. She wants your help finding the difference between her miscalculation (using salaries with any zeros removed), and the actual average salary.\n",
    "\n",
    "Write a query calculating the amount of error (i.e.:  average monthly salaries), and round it up to the next integer."
   ]
  },
  {
   "cell_type": "markdown",
   "metadata": {},
   "source": [
    "SELECT CEIL(AVG(SALARY) - AVG(CAST(REPLACE(CAST(SALARY AS CHAR), '0', '') AS UNSIGNED))) \n",
    "       AS error_difference\n",
    "FROM EMPLOYEES;\n"
   ]
  },
  {
   "cell_type": "markdown",
   "metadata": {},
   "source": [
    "/*\n",
    "MEDIAN\n",
    "*/\n",
    "SET @rowindex := -1;\n",
    "\n",
    "SELECT\n",
    "   ROUND(AVG(d.LAT_N), 4) AS Median\n",
    "FROM\n",
    "   (SELECT @rowindex := @rowindex + 1 AS rowindex,\n",
    "           STATION.LAT_N AS LAT_N\n",
    "    FROM STATION\n",
    "    ORDER BY STATION.LAT_N) AS d\n",
    "WHERE\n",
    "  d.rowindex IN (FLOOR(@rowindex / 2), CEIL(@rowindex / 2));\n",
    "\n",
    "\n",
    "\n"
   ]
  },
  {
   "cell_type": "markdown",
   "metadata": {},
   "source": [
    "# primE\n",
    "\n",
    "WITH RECURSIVE Numbers AS (\n",
    "    SELECT 2 AS num\n",
    "    UNION ALL\n",
    "    SELECT num + 1 FROM Numbers WHERE num < 1000\n",
    ")\n",
    "SELECT GROUP_CONCAT(num SEPARATOR '&') \n",
    "FROM Numbers \n",
    "WHERE NOT EXISTS (\n",
    "    SELECT 1 \n",
    "    FROM Numbers AS n \n",
    "    WHERE n.num < Numbers.num \n",
    "    AND Numbers.num % n.num = 0\n",
    "    AND n.num > 1\n",
    ");"
   ]
  },
  {
   "cell_type": "markdown",
   "metadata": {},
   "source": [
    "P(R) represents a pattern drawn by Julia in R rows. The following pattern represents P(5):\n",
    "\n",
    "* * * * * \n",
    "* * * * \n",
    "* * * \n",
    "* * \n",
    "*\n",
    "Write a query to print the pattern P(20)."
   ]
  },
  {
   "cell_type": "markdown",
   "metadata": {},
   "source": [
    "WITH RECURSIVE pattern AS (\n",
    "    SELECT 20 AS row_num\n",
    "    UNION ALL\n",
    "    SELECT row_num - 1\n",
    "    FROM pattern\n",
    "    WHERE row_num > 1\n",
    ")\n",
    "SELECT REPEAT('* ', row_num) AS pattern_row\n",
    "FROM pattern;\n"
   ]
  },
  {
   "cell_type": "markdown",
   "metadata": {},
   "source": [
    "P(R) represents a pattern drawn by Julia in R rows. The following pattern represents P(5):\n",
    "\n",
    "* \n",
    "* * \n",
    "* * * \n",
    "* * * * \n",
    "* * * * *\n",
    "Write a query to print the pattern P(20)."
   ]
  },
  {
   "cell_type": "markdown",
   "metadata": {},
   "source": [
    "WITH RECURSIVE pattern AS (\n",
    "    SELECT 1 AS row_num\n",
    "    UNION ALL\n",
    "    SELECT row_num + 1\n",
    "    FROM pattern\n",
    "    WHERE row_num < 20\n",
    ")\n",
    "SELECT REPEAT('* ', row_num) AS pattern_row\n",
    "FROM pattern;\n"
   ]
  }
 ],
 "metadata": {
  "language_info": {
   "name": "python"
  }
 },
 "nbformat": 4,
 "nbformat_minor": 2
}
